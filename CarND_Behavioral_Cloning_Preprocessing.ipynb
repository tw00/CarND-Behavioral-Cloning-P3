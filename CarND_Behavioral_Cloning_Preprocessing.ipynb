{
 "cells": [
  {
   "cell_type": "code",
   "execution_count": 12,
   "metadata": {
    "collapsed": true
   },
   "outputs": [],
   "source": [
    "import numpy as np\n",
    "import pandas as pd\n",
    "import os\n",
    "import pickle\n",
    "import cv2\n",
    "import csv\n",
    "import numpy as np\n",
    "from sklearn.model_selection import train_test_split"
   ]
  },
  {
   "cell_type": "code",
   "execution_count": 14,
   "metadata": {
    "collapsed": false
   },
   "outputs": [],
   "source": [
    "#df = pd.DataFrame(columns=['img', 'steering', 'acc', 'break', 'src_cam', 'filter'])\n",
    "#df.loc[1]"
   ]
  },
  {
   "cell_type": "code",
   "execution_count": 15,
   "metadata": {
    "collapsed": false
   },
   "outputs": [],
   "source": [
    "data_dir = 'data3/'\n",
    "data_log = 'driving_log.csv'\n",
    "\n",
    "if False:\n",
    "    # read in csv\n",
    "    # centerImg, leftImg, rightImg, steering angle, throttle, break, speed\n",
    "    csv_filename = '%s%s' % (data_dir, data_log)\n",
    "    print(csv_filename)\n",
    "    y_files = []\n",
    "    #y_data = np.array((None,4));\n",
    "    y_data = np.array([]).reshape(0,4)\n",
    "    with open(csv_filename, 'rt') as csvfile:\n",
    "        reader = csv.reader(csvfile)\n",
    "        next(reader)\n",
    "        for row in reader:\n",
    "            y_files.append((row[0].strip(), row[1].strip(), row[2].strip()));\n",
    "            y_data = np.vstack([y_data, (float(row[3]), float(row[4]), float(row[5]), float(row[6]))]);"
   ]
  },
  {
   "cell_type": "code",
   "execution_count": 16,
   "metadata": {
    "collapsed": false
   },
   "outputs": [],
   "source": [
    "if False:\n",
    "    # center,left,right,steering,throttle,brake,speed\n",
    "    import matplotlib.pyplot as plt\n",
    "    #plt.plot(y_data[:,3])\n",
    "    plt.plot(y_data[:,0])\n",
    "    plt.ylabel('some numbers')\n",
    "    plt.show()"
   ]
  },
  {
   "cell_type": "markdown",
   "metadata": {},
   "source": [
    "<pre>\n",
    "  Image: data/IMG/center_2016_12_01_13_34_32_267.jpg\n",
    "  Format: JPEG (Joint Photographic Experts Group JFIF format)\n",
    "  Mime type: image/jpeg\n",
    "  Class: DirectClass\n",
    "  Geometry: 320x160+0+0\n",
    "  Units: Undefined\n",
    "  Type: TrueColor\n",
    "  Endianess: Undefined\n",
    "  Colorspace: sRGB\n",
    "  Depth: 8-bit\n",
    "  Channel depth:\n",
    "    red: 8-bit\n",
    "    green: 8-bit\n",
    "    blue: 8-bit\n",
    "  Channel statistics:\n",
    "    Pixels: 51200\n",
    "    Red:\n",
    "      min: 0 (0)\n",
    "      max: 255 (1)\n",
    "      mean: 125.626 (0.492651)\n",
    "      standard deviation: 50.7508 (0.199023)\n",
    "      kurtosis: 0.512638\n",
    "      skewness: 0.488123\n",
    "    Green:\n",
    "      min: 0 (0)\n",
    "      max: 255 (1)\n",
    "      mean: 125.031 (0.490318)\n",
    "      standard deviation: 47.3026 (0.1855)\n",
    "      kurtosis: 0.0985292\n",
    "      skewness: 0.246887\n",
    "    Blue:\n",
    "      min: 0 (0)\n",
    "      max: 255 (1)\n",
    "      mean: 107.621 (0.422041)\n",
    "      standard deviation: 57.1212 (0.224005)\n",
    "      kurtosis: -0.453599\n",
    "      skewness: 0.367842\n",
    "  Image statistics:\n",
    "    Overall:\n",
    "      min: 0 (0)\n",
    "      max: 255 (1)\n",
    "      mean: 119.426 (0.468337)\n",
    "      standard deviation: 51.8845 (0.203469)\n",
    "      kurtosis: 0.156384\n",
    "      skewness: 0.303661\n",
    "  Rendering intent: Perceptual\n",
    "  Gamma: 0.454545\n",
    "  Chromaticity:\n",
    "    red primary: (0.64,0.33)\n",
    "    green primary: (0.3,0.6)\n",
    "    blue primary: (0.15,0.06)\n",
    "    white point: (0.3127,0.329)\n",
    "  Background color: white\n",
    "  Border color: srgb(223,223,223)\n",
    "  Matte color: grey74\n",
    "  Transparent color: black\n",
    "  Interlace: None\n",
    "  Intensity: Undefined\n",
    "  Compose: Over\n",
    "  Page geometry: 320x160+0+0\n",
    "  Dispose: Undefined\n",
    "  Iterations: 0\n",
    "  Compression: JPEG\n",
    "  Quality: 75\n",
    "  Orientation: Undefined\n",
    "  Properties:\n",
    "    date:create: 2017-01-19T19:54:29+00:00\n",
    "    date:modify: 2016-12-01T21:34:32+00:00\n",
    "    jpeg:colorspace: 2\n",
    "    jpeg:sampling-factor: 2x2,1x1,1x1\n",
    "    signature: d366febf445779d904002b67f8b4599d76b07851f2a185d7f09543873a01a275\n",
    "  Artifacts:\n",
    "    filename: data/IMG/center_2016_12_01_13_34_32_267.jpg\n",
    "    verbose: true\n",
    "  Tainted: False\n",
    "  Filesize: 13.5KB\n",
    "  Number pixels: 51.2K\n",
    "  Pixels per second: 0B\n",
    "  User time: 0.000u\n",
    "  Elapsed time: 0:01.000\n",
    "  Version: ImageMagick 6.8.9-9 Q16 x86_64 2016-11-29 http://www.imagemagick.org\n",
    "</pre>"
   ]
  },
  {
   "cell_type": "code",
   "execution_count": 25,
   "metadata": {
    "collapsed": false
   },
   "outputs": [
    {
     "data": {
      "text/plain": [
       "['dataset3_ssz_one_lap', 'dataset1_udacity', 'dataset2_twe_one_lap']"
      ]
     },
     "execution_count": 25,
     "metadata": {},
     "output_type": "execute_result"
    }
   ],
   "source": [
    "import os\n",
    "os.listdir(\"/mnt/data/\")"
   ]
  },
  {
   "cell_type": "code",
   "execution_count": 40,
   "metadata": {
    "collapsed": false
   },
   "outputs": [],
   "source": [
    "csv = pd.read_csv('/mnt/data/dataset2_twe_one_lap/driving_log.csv')\n",
    "#csv = pd.read_csv('/mnt/data/dataset1_udacity/driving_log.csv')\n",
    "\n",
    "for i in csv.columns:\n",
    "    if isinstance(csv[i][1], str):\n",
    "        csv[i] = csv[i].map(str.strip)\n"
   ]
  },
  {
   "cell_type": "code",
   "execution_count": 41,
   "metadata": {
    "collapsed": false
   },
   "outputs": [
    {
     "data": {
      "text/plain": [
       "False"
      ]
     },
     "execution_count": 41,
     "metadata": {},
     "output_type": "execute_result"
    }
   ],
   "source": [
    "#isis(csv['left'][0])\n",
    "isinstance(csv['left'][0], str)\n",
    "#np.isnan(csv['left'][0]) \n",
    "#csv"
   ]
  },
  {
   "cell_type": "code",
   "execution_count": 11,
   "metadata": {
    "collapsed": false
   },
   "outputs": [],
   "source": [
    "# TODO: BATCH SO I DONT RUN INTO MEMORY ISSUES\n",
    "\n",
    "# orginal size: 320x160 RGB 8-bit\n",
    "IMG_W = 32*4; # = 128\n",
    "IMG_H = 16*4; # = 64\n",
    "#steering_offset = 0.25;\n",
    "steering_offset = 0.1;\n",
    "\n",
    "num_of_samples = len(csv) * 3 * 2; # length * 3 camera angles * 2 flipped\n",
    "\n",
    "X_test = None; X_train = None;\n",
    "y_test = None; y_train = None;\n",
    "features = None; label = None;\n",
    "features = np.zeros(shape=[num_of_samples,IMG_H,IMG_W,3]);\n",
    "labels   = np.zeros(shape=[num_of_samples])\n",
    "\n",
    "img_counter = 0;\n",
    "\n",
    "for i in range(len(csv)):\n",
    "#    left_img   = './data2/' + csv['left'][i];\n",
    "#    right_img  = './data2/' + csv['right'][i];\n",
    "#    center_img  = './data2/' + csv['center'][i];\n",
    "    left_img   = './data3/IMG/' + os.path.basename(csv['left'][i]);\n",
    "    right_img  = './data3/IMG/' + os.path.basename(csv['right'][i]);\n",
    "    center_img = './data3/IMG/' + os.path.basename(csv['center'][i]);   \n",
    "    steering_angle = csv['steering'][i];\n",
    "    \n",
    "    for camera, img_path in (('L', left_img), ('R', right_img), ('C', center_img)):    \n",
    "#    for camera, img_path in [('C', center_img)]:\n",
    "        img = cv2.imread(img_path)\n",
    "        img = cv2.cvtColor(img, cv2.COLOR_BGR2RGB) # OpenCV does not use RGB, it uses BGR\n",
    "        img = cv2.resize(img, (IMG_W, IMG_H))\n",
    "        flipped = cv2.flip(img,1)\n",
    "        \n",
    "        if camera == 'L': steering_angle = steering_angle + steering_offset;  # TESTEN\n",
    "        if camera == 'R': steering_angle = steering_angle - steering_offset;  # TESTEN           \n",
    "#       EVTL: np.clip, np.min\n",
    "        \n",
    "        features[img_counter,:,:,:] = img;\n",
    "        labels[img_counter] = steering_angle;\n",
    "        img_counter += 1;\n",
    "        \n",
    "        features[img_counter,:,:,:] = flipped;\n",
    "        labels[img_counter] = -steering_angle;\n",
    "        img_counter += 1;        \n",
    "\n",
    "#X_train, X_test, y_train, y_test = train_test_split(features, labels, test_size=0.1)\n",
    "X_train, X_test, y_train, y_test = train_test_split(features, labels, test_size=0)\n",
    "features = None;\n",
    "#labels = None;"
   ]
  },
  {
   "cell_type": "code",
   "execution_count": 12,
   "metadata": {
    "collapsed": false
   },
   "outputs": [
    {
     "name": "stdout",
     "output_type": "stream",
     "text": [
      "[ 0.1 -0.1  0.  ..., -0.   0.  -0. ]\n",
      "0.0\n",
      "-3.5527136788e-15\n",
      "0.0\n"
     ]
    }
   ],
   "source": [
    "print(labels)\n",
    "print(np.sum(labels))\n",
    "print(np.sum(y_train))\n",
    "print(np.sum(y_test))\n",
    "#1/0"
   ]
  },
  {
   "cell_type": "code",
   "execution_count": 13,
   "metadata": {
    "collapsed": false
   },
   "outputs": [
    {
     "name": "stdout",
     "output_type": "stream",
     "text": [
      "- Saving train_1.p\n",
      "- Saving train_2.p\n",
      "- Saving train_3.p\n",
      "- Saving train_4.p\n",
      "- Saving train_5.p\n",
      "- Saving train_6.p\n",
      "- Saving train_7.p\n",
      "- Saving train_8.p\n",
      "- Saving train_9.p\n",
      "DONE\n"
     ]
    }
   ],
   "source": [
    "batch_size = 1000;\n",
    "\n",
    "batches_train = len(X_train) // batch_size\n",
    "for i in range(batches_train):\n",
    "    train = {'features': X_train[i*batch_size:(i+1)*batch_size], 'labels': y_train[i*batch_size:(i+1)*batch_size]}\n",
    "    print('- Saving train_%d.p' % (i+1))\n",
    "    with open(\"/mnt/data3/train_%d.p\" % (i+1), \"wb\") as f:\n",
    "        pickle.dump(train, f)\n",
    "print('DONE')"
   ]
  },
  {
   "cell_type": "code",
   "execution_count": 14,
   "metadata": {
    "collapsed": false
   },
   "outputs": [
    {
     "name": "stdout",
     "output_type": "stream",
     "text": [
      "0\n",
      "DONE\n"
     ]
    }
   ],
   "source": [
    "batches_test = len(X_test) // batch_size;\n",
    "print(batches_test)\n",
    "for i in range(batches_test):\n",
    "    test  = {'features': X_test[i*batch_size:(i+1)*batch_size], 'labels': y_test[i*batch_size:(i+1)*batch_size]}\n",
    "    print('- Saving test_%d.p' % (i+1))    \n",
    "    with open(\"/mnt/data3/test_%d.p\" % (i+1), \"wb\") as f:\n",
    "        pickle.dump(test, f)\n",
    "\n",
    "print('DONE')"
   ]
  },
  {
   "cell_type": "code",
   "execution_count": 46,
   "metadata": {
    "collapsed": false
   },
   "outputs": [
    {
     "name": "stdout",
     "output_type": "stream",
     "text": [
      "[1 2 3 4 5]\n",
      "[6 7 8]\n"
     ]
    }
   ],
   "source": [
    "x = np.array([1,2,3,4,5,6,7,8])\n",
    "print(x[0:5])\n",
    "print(x[5:8])"
   ]
  },
  {
   "cell_type": "markdown",
   "metadata": {},
   "source": [
    "# Generate data for pre-training"
   ]
  },
  {
   "cell_type": "code",
   "execution_count": 48,
   "metadata": {
    "collapsed": false
   },
   "outputs": [
    {
     "name": "stdout",
     "output_type": "stream",
     "text": [
      "Number of samples 53\n"
     ]
    }
   ],
   "source": [
    "# orginal size: 320x160 RGB 8-bit\n",
    "\n",
    "img_counter = 0;\n",
    "\n",
    "idx_max = csv['steering'] > np.max(csv['steering']) - 0.45\n",
    "idx_min = csv['steering'] < np.min(csv['steering']) + 0.30\n",
    "idx = idx_max | idx_min\n",
    "idx[0:10] = True; # straight road\n",
    "idx = np.where(idx == True)[0]\n",
    "\n",
    "num_of_samples = len(idx);\n",
    "print('Number of samples %d' % num_of_samples)\n",
    "\n",
    "features      = np.zeros(shape=[num_of_samples,IMG_H,IMG_W,3]);\n",
    "labels        = np.zeros(shape=[num_of_samples,3])\n",
    "features_more = np.zeros(shape=[num_of_samples,])\n",
    "\n",
    "for _, i in np.ndenumerate(idx):\n",
    "#    left_img   = './data2/' + csv['left'][i];\n",
    "#    right_img  = './data2/' + csv['right'][i];\n",
    "#    center_img = './data2/' + csv['center'][i];   \n",
    "    center_img = './data2/IMG/' + os.path.basename(csv['center'][i]);     \n",
    "    steering_angle = csv['steering'][i];   \n",
    "    \n",
    "    throttle = csv['throttle'][i];   \n",
    "    brake    = csv['brake'][i];           \n",
    "    speed    = csv['speed'][i];               \n",
    "    \n",
    "    #camera = 'C'\n",
    "    img = cv2.imread(center_img)\n",
    "    img = cv2.cvtColor(img, cv2.COLOR_BGR2RGB) # OpenCV does not use RGB, it uses BGR\n",
    "    img = cv2.resize(img, (IMG_W, IMG_H))\n",
    "    flipped = cv2.flip(img,1)\n",
    "\n",
    "    #if camera == 'L': steering_angle = steering_angle + steering_offset;  # TESTEN\n",
    "    #if camera == 'R': steering_angle = steering_angle - steering_offset;  # TESTEN           \n",
    "\n",
    "    features[img_counter,:,:,:] = img;\n",
    "    labels[img_counter,0] = steering_angle;\n",
    "    labels[img_counter,1] = throttle;\n",
    "    labels[img_counter,2] = brake;    \n",
    "    features_more[img_counter] = speed;\n",
    "    img_counter += 1;\n",
    "\n",
    "    #features[img_counter,:,:,:] = flipped;\n",
    "    #labels[img_counter] = -steering_angle;\n",
    "    #img_counter += 1;        \n",
    "\n",
    "X_pretrain = features;\n",
    "y_pretrain = labels;\n",
    "z_pretrain = features_more;"
   ]
  },
  {
   "cell_type": "code",
   "execution_count": 49,
   "metadata": {
    "collapsed": false
   },
   "outputs": [],
   "source": [
    "pretrain = {'features': X_pretrain, 'labels': y_pretrain, 'features_more': z_pretrain}\n",
    "with open(\"/mnt/data2/train_pretrain.p\", \"wb\") as f:\n",
    "    pickle.dump(pretrain, f)"
   ]
  },
  {
   "cell_type": "code",
   "execution_count": 50,
   "metadata": {
    "collapsed": false
   },
   "outputs": [],
   "source": [
    "#from klepto.archives import dir_archive\n",
    "#train_archive = dir_archive(\"./data2/train.p\", {}, cached=True, serialized=True)\n",
    "#train_archive['features'] = X_train;\n",
    "#train_archive.dump()\n",
    "#train_archive['labels'] = y_train;\n",
    "#train_archive.dump()\n",
    "#train_archive.clear()\n",
    "#test_archive  = dir_archive(\"./data2/test.p\", test, serialized=True)"
   ]
  },
  {
   "cell_type": "code",
   "execution_count": 51,
   "metadata": {
    "collapsed": false
   },
   "outputs": [
    {
     "name": "stdout",
     "output_type": "stream",
     "text": [
      "Variable           Type              Data/Info\n",
      "----------------------------------------------\n",
      "IMG_H              int               64\n",
      "IMG_W              int               128\n",
      "X_pretrain         ndarray           53x64x128x3: 1302528 elems, type `float64`, 10420224 bytes (9.9375 Mb)\n",
      "X_test             ndarray           0x64x128x3: 0 elems, type `float64`, 0 bytes\n",
      "X_train            ndarray           8082x64x128x3: 198623232 elems, type `float64`, 1588985856 bytes (1515.375 Mb)\n",
      "batch_size         int               1000\n",
      "batches_test       int               0\n",
      "batches_train      int               8\n",
      "brake              int64             0\n",
      "camera             str               C\n",
      "center_img         str               ./data2/IMG/center_2017_01_28_12_45_37_458.jpg\n",
      "csv                DataFrame                                  <...>\\n[1347 rows x 7 columns]\n",
      "cv2                module            <module 'cv2' from '/home<...>35m-x86_64-linux-gnu.so'>\n",
      "data_dir           str               data2/\n",
      "data_log           str               driving_log.csv\n",
      "f                  BufferedWriter    <_io.BufferedWriter name=<...>/data2/train_pretrain.p'>\n",
      "features           ndarray           53x64x128x3: 1302528 elems, type `float64`, 10420224 bytes (9.9375 Mb)\n",
      "features_more      ndarray           53: 53 elems, type `float64`, 424 bytes\n",
      "flipped            ndarray           64x128x3: 24576 elems, type `uint8`, 24576 bytes\n",
      "i                  int64             1330\n",
      "idx                ndarray           53: 53 elems, type `int64`, 424 bytes\n",
      "idx_max            Series            0       False\\n1       Fa<...>me: steering, dtype: bool\n",
      "idx_min            Series            0       False\\n1       Fa<...>me: steering, dtype: bool\n",
      "img                ndarray           64x128x3: 24576 elems, type `uint8`, 24576 bytes\n",
      "img_counter        int               53\n",
      "img_path           str               ./data2/IMG/center_2017_01_28_12_45_38_664.jpg\n",
      "label              NoneType          None\n",
      "labels             ndarray           53x3: 159 elems, type `float64`, 1272 bytes\n",
      "np                 module            <module 'numpy' from '/ho<...>kages/numpy/__init__.py'>\n",
      "num_of_samples     int               53\n",
      "os                 module            <module 'os' from '/home/<...>rm1/lib/python3.5/os.py'>\n",
      "pd                 module            <module 'pandas' from '/h<...>ages/pandas/__init__.py'>\n",
      "pickle             module            <module 'pickle' from '/h<...>lib/python3.5/pickle.py'>\n",
      "pretrain           dict              n=3\n",
      "speed              float64           17.93448\n",
      "steering_angle     float64           0.3166667\n",
      "steering_offset    float             0.25\n",
      "throttle           float64           0.0\n",
      "train              dict              n=2\n",
      "train_test_split   function          <function train_test_split at 0x7f6b10b990d0>\n",
      "x                  ndarray           8: 8 elems, type `int64`, 64 bytes\n",
      "y_pretrain         ndarray           53x3: 159 elems, type `float64`, 1272 bytes\n",
      "y_test             ndarray           0: 0 elems, type `float64`, 0 bytes\n",
      "y_train            ndarray           8082: 8082 elems, type `float64`, 64656 bytes\n",
      "z_pretrain         ndarray           53: 53 elems, type `float64`, 424 bytes\n"
     ]
    }
   ],
   "source": [
    "whos"
   ]
  },
  {
   "cell_type": "code",
   "execution_count": 175,
   "metadata": {
    "collapsed": false
   },
   "outputs": [
    {
     "name": "stdout",
     "output_type": "stream",
     "text": [
      "               _i175: 182\n"
     ]
    },
    {
     "ename": "RuntimeError",
     "evalue": "dictionary changed size during iteration",
     "output_type": "error",
     "traceback": [
      "\u001b[0;31m---------------------------------------------------------------------------\u001b[0m",
      "\u001b[0;31mRuntimeError\u001b[0m                              Traceback (most recent call last)",
      "\u001b[0;32m<ipython-input-175-fa8d5b947ccd>\u001b[0m in \u001b[0;36m<module>\u001b[0;34m()\u001b[0m\n\u001b[1;32m      2\u001b[0m \u001b[0;32mimport\u001b[0m \u001b[0msys\u001b[0m\u001b[0;34m\u001b[0m\u001b[0m\n\u001b[1;32m      3\u001b[0m \u001b[0mpsutil\u001b[0m\u001b[0;34m.\u001b[0m\u001b[0mvirtual_memory\u001b[0m\u001b[0;34m(\u001b[0m\u001b[0;34m)\u001b[0m\u001b[0;34m\u001b[0m\u001b[0m\n\u001b[0;32m----> 4\u001b[0;31m \u001b[0;32mfor\u001b[0m \u001b[0mvar\u001b[0m\u001b[0;34m,\u001b[0m \u001b[0mobj\u001b[0m  \u001b[0;32min\u001b[0m \u001b[0mlocals\u001b[0m\u001b[0;34m(\u001b[0m\u001b[0;34m)\u001b[0m\u001b[0;34m.\u001b[0m\u001b[0mitems\u001b[0m\u001b[0;34m(\u001b[0m\u001b[0;34m)\u001b[0m\u001b[0;34m:\u001b[0m\u001b[0;34m\u001b[0m\u001b[0m\n\u001b[0m\u001b[1;32m      5\u001b[0m     \u001b[0mprint\u001b[0m\u001b[0;34m(\u001b[0m\u001b[0;34m\"%20s: %d\"\u001b[0m \u001b[0;34m%\u001b[0m \u001b[0;34m(\u001b[0m\u001b[0mvar\u001b[0m\u001b[0;34m,\u001b[0m \u001b[0msys\u001b[0m\u001b[0;34m.\u001b[0m\u001b[0mgetsizeof\u001b[0m\u001b[0;34m(\u001b[0m\u001b[0mobj\u001b[0m\u001b[0;34m)\u001b[0m\u001b[0;34m)\u001b[0m\u001b[0;34m)\u001b[0m\u001b[0;34m\u001b[0m\u001b[0m\n",
      "\u001b[0;31mRuntimeError\u001b[0m: dictionary changed size during iteration"
     ]
    }
   ],
   "source": [
    "import psutil\n",
    "import sys\n",
    "psutil.virtual_memory()\n",
    "for var, obj  in locals().items():\n",
    "    print(\"%20s: %d\" % (var, sys.getsizeof(obj)))"
   ]
  },
  {
   "cell_type": "code",
   "execution_count": 176,
   "metadata": {
    "collapsed": false
   },
   "outputs": [],
   "source": [
    "X_train = None\n",
    "X_test = None\n",
    "y_train = None\n",
    "y_test = None\n",
    "X_pretrain = None\n",
    "y_pretrain = None\n",
    "features = None\n",
    "_5 = None\n",
    "_ = None"
   ]
  },
  {
   "cell_type": "code",
   "execution_count": 177,
   "metadata": {
    "collapsed": false
   },
   "outputs": [
    {
     "data": {
      "text/plain": [
       "3"
      ]
     },
     "execution_count": 177,
     "metadata": {},
     "output_type": "execute_result"
    }
   ],
   "source": [
    "filter_switcher = {\n",
    "    0: 'mod_lighting',\n",
    "    1: 'mod_rotate',\n",
    "    2: 'mod_blur',\n",
    "}\n",
    "len(filter_switcher)"
   ]
  },
  {
   "cell_type": "code",
   "execution_count": 178,
   "metadata": {
    "collapsed": false
   },
   "outputs": [],
   "source": [
    "class foo:\n",
    "    X = 55;\n",
    "    def f(self):\n",
    "        self.X = self.X + 1"
   ]
  },
  {
   "cell_type": "code",
   "execution_count": 179,
   "metadata": {
    "collapsed": false
   },
   "outputs": [
    {
     "name": "stdout",
     "output_type": "stream",
     "text": [
      "6\n",
      "55\n",
      "7\n",
      "55\n"
     ]
    }
   ],
   "source": [
    "x = foo()\n",
    "x.X = 6\n",
    "print(x.X)\n",
    "print(foo.X)\n",
    "x.f()\n",
    "print(x.X)\n",
    "print(foo.X)"
   ]
  },
  {
   "cell_type": "code",
   "execution_count": 180,
   "metadata": {
    "collapsed": true
   },
   "outputs": [],
   "source": [
    "def foo(x):\n",
    "    return x ** 2"
   ]
  },
  {
   "cell_type": "code",
   "execution_count": 181,
   "metadata": {
    "collapsed": false
   },
   "outputs": [
    {
     "data": {
      "text/plain": [
       "['spam', 'Spam', 'SPAM!', 'fooo']"
      ]
     },
     "execution_count": 181,
     "metadata": {},
     "output_type": "execute_result"
    }
   ],
   "source": [
    "L = ['spam', 'Spam', 'SPAM!']\n",
    "L.append('fooo')\n",
    "L"
   ]
  },
  {
   "cell_type": "code",
   "execution_count": 221,
   "metadata": {
    "collapsed": false,
    "scrolled": false
   },
   "outputs": [
    {
     "ename": "TypeError",
     "evalue": "only length-1 arrays can be converted to Python scalars",
     "output_type": "error",
     "traceback": [
      "\u001b[0;31m---------------------------------------------------------------------------\u001b[0m",
      "\u001b[0;31mTypeError\u001b[0m                                 Traceback (most recent call last)",
      "\u001b[0;32m<ipython-input-221-cd18da284eed>\u001b[0m in \u001b[0;36m<module>\u001b[0;34m()\u001b[0m\n\u001b[1;32m      3\u001b[0m \u001b[0mreload\u001b[0m\u001b[0;34m(\u001b[0m\u001b[0mself_driving_car\u001b[0m\u001b[0;34m.\u001b[0m\u001b[0mdata_generator\u001b[0m\u001b[0;34m)\u001b[0m\u001b[0;34m\u001b[0m\u001b[0m\n\u001b[1;32m      4\u001b[0m \u001b[0mdatagen\u001b[0m \u001b[0;34m=\u001b[0m \u001b[0mself_driving_car\u001b[0m\u001b[0;34m.\u001b[0m\u001b[0mdata_generator\u001b[0m\u001b[0;34m.\u001b[0m\u001b[0mDataGenerator\u001b[0m\u001b[0;34m(\u001b[0m\u001b[0;34m)\u001b[0m\u001b[0;34m\u001b[0m\u001b[0m\n\u001b[0;32m----> 5\u001b[0;31m \u001b[0mdatagen\u001b[0m\u001b[0;34m.\u001b[0m\u001b[0mpreprocess\u001b[0m\u001b[0;34m(\u001b[0m\u001b[0mbasepath\u001b[0m \u001b[0;34m=\u001b[0m \u001b[0;34m\"/mnt/data/\"\u001b[0m\u001b[0;34m,\u001b[0m \u001b[0mdataset\u001b[0m \u001b[0;34m=\u001b[0m \u001b[0;34m\"dataset1_udacity\"\u001b[0m\u001b[0;34m)\u001b[0m\u001b[0;34m\u001b[0m\u001b[0m\n\u001b[0m\u001b[1;32m      6\u001b[0m \u001b[0mdf\u001b[0m \u001b[0;34m=\u001b[0m \u001b[0mdatagen\u001b[0m\u001b[0;34m.\u001b[0m\u001b[0msave_index\u001b[0m\u001b[0;34m(\u001b[0m\u001b[0;34m)\u001b[0m\u001b[0;34m\u001b[0m\u001b[0m\n\u001b[1;32m      7\u001b[0m \u001b[0mdf\u001b[0m\u001b[0;34m\u001b[0m\u001b[0m\n",
      "\u001b[0;32m/home/carnd/CarND-Behavioral-Cloning-P3/self_driving_car/data_generator.py\u001b[0m in \u001b[0;36mpreprocess\u001b[0;34m(self, basepath, dataset)\u001b[0m\n\u001b[1;32m    121\u001b[0m \u001b[0;34m\u001b[0m\u001b[0m\n\u001b[1;32m    122\u001b[0m                 \u001b[0;32mfor\u001b[0m \u001b[0midx\u001b[0m\u001b[0;34m,\u001b[0m \u001b[0mfunc_filter\u001b[0m \u001b[0;32min\u001b[0m \u001b[0mself\u001b[0m\u001b[0;34m.\u001b[0m\u001b[0mfilter_switcher\u001b[0m\u001b[0;34m.\u001b[0m\u001b[0mitems\u001b[0m\u001b[0;34m(\u001b[0m\u001b[0;34m)\u001b[0m\u001b[0;34m:\u001b[0m\u001b[0;34m\u001b[0m\u001b[0m\n\u001b[0;32m--> 123\u001b[0;31m                     \u001b[0;34m(\u001b[0m\u001b[0mimg_new\u001b[0m\u001b[0;34m,\u001b[0m \u001b[0msteering_new\u001b[0m\u001b[0;34m)\u001b[0m \u001b[0;34m=\u001b[0m \u001b[0mfunc_filter\u001b[0m\u001b[0;34m(\u001b[0m \u001b[0mimg\u001b[0m\u001b[0;34m,\u001b[0m \u001b[0msteering_angle\u001b[0m \u001b[0;34m)\u001b[0m\u001b[0;34m;\u001b[0m\u001b[0;34m\u001b[0m\u001b[0m\n\u001b[0m\u001b[1;32m    124\u001b[0m \u001b[0;34m\u001b[0m\u001b[0m\n\u001b[1;32m    125\u001b[0m                     \u001b[0;31m#img_path_full = dataset + \"/IMG_preprocessed/\" + camera + \"_\" + func_filter.__name__ + \"_\" +  img_path\u001b[0m\u001b[0;34m\u001b[0m\u001b[0;34m\u001b[0m\u001b[0m\n",
      "\u001b[0;32m/home/carnd/CarND-Behavioral-Cloning-P3/self_driving_car/data_generator.py\u001b[0m in \u001b[0;36mmod_lighting\u001b[0;34m(img, steering, offset_saturation, offset_lightness)\u001b[0m\n\u001b[1;32m     38\u001b[0m         \u001b[0mimg_hsv\u001b[0m\u001b[0;34m[\u001b[0m\u001b[0;34m:\u001b[0m\u001b[0;34m,\u001b[0m\u001b[0;34m:\u001b[0m\u001b[0;34m,\u001b[0m\u001b[0;36m1\u001b[0m\u001b[0;34m]\u001b[0m \u001b[0;34m=\u001b[0m \u001b[0mnp\u001b[0m\u001b[0;34m.\u001b[0m\u001b[0mmaximum\u001b[0m\u001b[0;34m(\u001b[0m \u001b[0mnp\u001b[0m\u001b[0;34m.\u001b[0m\u001b[0mminimum\u001b[0m\u001b[0;34m(\u001b[0m\u001b[0mimg_hsv\u001b[0m\u001b[0;34m[\u001b[0m\u001b[0;34m:\u001b[0m\u001b[0;34m,\u001b[0m\u001b[0;34m:\u001b[0m\u001b[0;34m,\u001b[0m\u001b[0;36m1\u001b[0m\u001b[0;34m]\u001b[0m\u001b[0;34m+\u001b[0m\u001b[0moffset_saturation\u001b[0m\u001b[0;34m,\u001b[0m \u001b[0;36m1.0\u001b[0m\u001b[0;34m)\u001b[0m\u001b[0;34m,\u001b[0m \u001b[0;36m0.0\u001b[0m\u001b[0;34m)\u001b[0m\u001b[0;34m;\u001b[0m\u001b[0;34m\u001b[0m\u001b[0m\n\u001b[1;32m     39\u001b[0m         \u001b[0mimg_hsv\u001b[0m\u001b[0;34m[\u001b[0m\u001b[0;34m:\u001b[0m\u001b[0;34m,\u001b[0m\u001b[0;34m:\u001b[0m\u001b[0;34m,\u001b[0m\u001b[0;36m2\u001b[0m\u001b[0;34m]\u001b[0m \u001b[0;34m=\u001b[0m \u001b[0mnp\u001b[0m\u001b[0;34m.\u001b[0m\u001b[0mmaximum\u001b[0m\u001b[0;34m(\u001b[0m \u001b[0mnp\u001b[0m\u001b[0;34m.\u001b[0m\u001b[0mminimum\u001b[0m\u001b[0;34m(\u001b[0m\u001b[0mimg_hsv\u001b[0m\u001b[0;34m[\u001b[0m\u001b[0;34m:\u001b[0m\u001b[0;34m,\u001b[0m\u001b[0;34m:\u001b[0m\u001b[0;34m,\u001b[0m\u001b[0;36m2\u001b[0m\u001b[0;34m]\u001b[0m\u001b[0;34m+\u001b[0m\u001b[0moffset_lightness\u001b[0m\u001b[0;34m,\u001b[0m \u001b[0;36m1.0\u001b[0m\u001b[0;34m)\u001b[0m\u001b[0;34m,\u001b[0m \u001b[0;36m0.0\u001b[0m\u001b[0;34m)\u001b[0m\u001b[0;34m;\u001b[0m\u001b[0;34m\u001b[0m\u001b[0m\n\u001b[0;32m---> 40\u001b[0;31m         \u001b[0mimg_rgb\u001b[0m \u001b[0;34m=\u001b[0m \u001b[0mint\u001b[0m\u001b[0;34m(\u001b[0m\u001b[0mmatplotlib\u001b[0m\u001b[0;34m.\u001b[0m\u001b[0mcolors\u001b[0m\u001b[0;34m.\u001b[0m\u001b[0mhsv_to_rgb\u001b[0m\u001b[0;34m(\u001b[0m\u001b[0mimg_hsv\u001b[0m\u001b[0;34m)\u001b[0m\u001b[0;34m)\u001b[0m\u001b[0;34m;\u001b[0m\u001b[0;34m\u001b[0m\u001b[0m\n\u001b[0m\u001b[1;32m     41\u001b[0m         \u001b[0;32mreturn\u001b[0m \u001b[0;34m(\u001b[0m\u001b[0mimg_rgb\u001b[0m\u001b[0;34m,\u001b[0m \u001b[0msteering\u001b[0m\u001b[0;34m)\u001b[0m\u001b[0;34m\u001b[0m\u001b[0m\n\u001b[1;32m     42\u001b[0m \u001b[0;34m\u001b[0m\u001b[0m\n",
      "\u001b[0;31mTypeError\u001b[0m: only length-1 arrays can be converted to Python scalars"
     ]
    }
   ],
   "source": [
    "from imp import reload\n",
    "from self_driving_car import DataGenerator\n",
    "reload(self_driving_car.data_generator)\n",
    "datagen = self_driving_car.data_generator.DataGenerator()\n",
    "datagen.preprocess(basepath = \"/mnt/data/\", dataset = \"dataset1_udacity\")\n",
    "df = datagen.save_index()\n",
    "df"
   ]
  },
  {
   "cell_type": "code",
   "execution_count": null,
   "metadata": {
    "collapsed": true
   },
   "outputs": [],
   "source": []
  }
 ],
 "metadata": {
  "kernelspec": {
   "display_name": "Python 3",
   "language": "python",
   "name": "python3"
  },
  "language_info": {
   "codemirror_mode": {
    "name": "ipython",
    "version": 3
   },
   "file_extension": ".py",
   "mimetype": "text/x-python",
   "name": "python",
   "nbconvert_exporter": "python",
   "pygments_lexer": "ipython3",
   "version": "3.5.2"
  },
  "widgets": {
   "state": {},
   "version": "1.1.2"
  }
 },
 "nbformat": 4,
 "nbformat_minor": 2
}
