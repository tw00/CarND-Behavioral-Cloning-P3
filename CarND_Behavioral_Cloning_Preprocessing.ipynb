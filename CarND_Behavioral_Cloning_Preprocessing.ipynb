{
 "cells": [
  {
   "cell_type": "code",
   "execution_count": null,
   "metadata": {
    "collapsed": true
   },
   "outputs": [],
   "source": [
    "import numpy as np\n",
    "import pandas as pd\n",
    "import os\n",
    "import pickle\n",
    "import cv2\n",
    "import csv\n",
    "import numpy as np\n",
    "from sklearn.model_selection import train_test_split"
   ]
  },
  {
   "cell_type": "code",
   "execution_count": null,
   "metadata": {
    "collapsed": false
   },
   "outputs": [],
   "source": [
    "data_dir = 'data/'\n",
    "data_log = 'driving_log.csv'\n",
    "\n",
    "if False:\n",
    "    # read in csv\n",
    "    # centerImg, leftImg, rightImg, steering angle, throttle, break, speed\n",
    "    csv_filename = '%s%s' % (data_dir, data_log)\n",
    "    print(csv_filename)\n",
    "    y_files = []\n",
    "    #y_data = np.array((None,4));\n",
    "    y_data = np.array([]).reshape(0,4)\n",
    "    with open(csv_filename, 'rt') as csvfile:\n",
    "        reader = csv.reader(csvfile)\n",
    "        next(reader)\n",
    "        for row in reader:\n",
    "            y_files.append((row[0].strip(), row[1].strip(), row[2].strip()));\n",
    "            y_data = np.vstack([y_data, (float(row[3]), float(row[4]), float(row[5]), float(row[6]))]);"
   ]
  },
  {
   "cell_type": "code",
   "execution_count": null,
   "metadata": {
    "collapsed": false
   },
   "outputs": [],
   "source": [
    "if False:\n",
    "    # center,left,right,steering,throttle,brake,speed\n",
    "    import matplotlib.pyplot as plt\n",
    "    #plt.plot(y_data[:,3])\n",
    "    plt.plot(y_data[:,0])\n",
    "    plt.ylabel('some numbers')\n",
    "    plt.show()"
   ]
  },
  {
   "cell_type": "markdown",
   "metadata": {},
   "source": [
    "<pre>\n",
    "  Image: data/IMG/center_2016_12_01_13_34_32_267.jpg\n",
    "  Format: JPEG (Joint Photographic Experts Group JFIF format)\n",
    "  Mime type: image/jpeg\n",
    "  Class: DirectClass\n",
    "  Geometry: 320x160+0+0\n",
    "  Units: Undefined\n",
    "  Type: TrueColor\n",
    "  Endianess: Undefined\n",
    "  Colorspace: sRGB\n",
    "  Depth: 8-bit\n",
    "  Channel depth:\n",
    "    red: 8-bit\n",
    "    green: 8-bit\n",
    "    blue: 8-bit\n",
    "  Channel statistics:\n",
    "    Pixels: 51200\n",
    "    Red:\n",
    "      min: 0 (0)\n",
    "      max: 255 (1)\n",
    "      mean: 125.626 (0.492651)\n",
    "      standard deviation: 50.7508 (0.199023)\n",
    "      kurtosis: 0.512638\n",
    "      skewness: 0.488123\n",
    "    Green:\n",
    "      min: 0 (0)\n",
    "      max: 255 (1)\n",
    "      mean: 125.031 (0.490318)\n",
    "      standard deviation: 47.3026 (0.1855)\n",
    "      kurtosis: 0.0985292\n",
    "      skewness: 0.246887\n",
    "    Blue:\n",
    "      min: 0 (0)\n",
    "      max: 255 (1)\n",
    "      mean: 107.621 (0.422041)\n",
    "      standard deviation: 57.1212 (0.224005)\n",
    "      kurtosis: -0.453599\n",
    "      skewness: 0.367842\n",
    "  Image statistics:\n",
    "    Overall:\n",
    "      min: 0 (0)\n",
    "      max: 255 (1)\n",
    "      mean: 119.426 (0.468337)\n",
    "      standard deviation: 51.8845 (0.203469)\n",
    "      kurtosis: 0.156384\n",
    "      skewness: 0.303661\n",
    "  Rendering intent: Perceptual\n",
    "  Gamma: 0.454545\n",
    "  Chromaticity:\n",
    "    red primary: (0.64,0.33)\n",
    "    green primary: (0.3,0.6)\n",
    "    blue primary: (0.15,0.06)\n",
    "    white point: (0.3127,0.329)\n",
    "  Background color: white\n",
    "  Border color: srgb(223,223,223)\n",
    "  Matte color: grey74\n",
    "  Transparent color: black\n",
    "  Interlace: None\n",
    "  Intensity: Undefined\n",
    "  Compose: Over\n",
    "  Page geometry: 320x160+0+0\n",
    "  Dispose: Undefined\n",
    "  Iterations: 0\n",
    "  Compression: JPEG\n",
    "  Quality: 75\n",
    "  Orientation: Undefined\n",
    "  Properties:\n",
    "    date:create: 2017-01-19T19:54:29+00:00\n",
    "    date:modify: 2016-12-01T21:34:32+00:00\n",
    "    jpeg:colorspace: 2\n",
    "    jpeg:sampling-factor: 2x2,1x1,1x1\n",
    "    signature: d366febf445779d904002b67f8b4599d76b07851f2a185d7f09543873a01a275\n",
    "  Artifacts:\n",
    "    filename: data/IMG/center_2016_12_01_13_34_32_267.jpg\n",
    "    verbose: true\n",
    "  Tainted: False\n",
    "  Filesize: 13.5KB\n",
    "  Number pixels: 51.2K\n",
    "  Pixels per second: 0B\n",
    "  User time: 0.000u\n",
    "  Elapsed time: 0:01.000\n",
    "  Version: ImageMagick 6.8.9-9 Q16 x86_64 2016-11-29 http://www.imagemagick.org\n",
    "</pre>"
   ]
  },
  {
   "cell_type": "code",
   "execution_count": null,
   "metadata": {
    "collapsed": true
   },
   "outputs": [],
   "source": [
    "csv = pd.read_csv('./data/driving_log.csv')\n",
    "\n",
    "for i in csv.columns:\n",
    "    if isinstance(csv[i][1], str):\n",
    "        csv[i] = csv[i].map(str.strip)\n"
   ]
  },
  {
   "cell_type": "code",
   "execution_count": null,
   "metadata": {
    "collapsed": false
   },
   "outputs": [],
   "source": [
    "csv"
   ]
  },
  {
   "cell_type": "code",
   "execution_count": null,
   "metadata": {
    "collapsed": false
   },
   "outputs": [],
   "source": [
    "# TODO: BATCH SO I DONT RUN INTO MEMORY ISSUES\n",
    "\n",
    "# orginal size: 320x160 RGB 8-bit\n",
    "IMG_W = 32*4; # = 128\n",
    "IMG_H = 16*4; # = 64\n",
    "steering_offset = 0.25;\n",
    "\n",
    "num_of_samples = len(csv) * 3 * 2; # length * 3 camera angles * 2 flipped\n",
    "\n",
    "X_test = None; X_train = None;\n",
    "y_test = None; y_train = None;\n",
    "features = None; label = None;\n",
    "features = np.zeros(shape=[num_of_samples,IMG_H,IMG_W,3]);\n",
    "labels   = np.zeros(shape=[num_of_samples])\n",
    "\n",
    "img_counter = 0;\n",
    "\n",
    "for i in range(len(csv)):\n",
    "    left_img   = './data/' + csv['left'][i];\n",
    "    right_img  = './data/' + csv['right'][i];\n",
    "    center_img = './data/' + csv['center'][i];   \n",
    "    steering_angle = csv['steering'][i];     \n",
    "    \n",
    "    for camera, img_path in (('L', left_img), ('R', right_img), ('C', center_img)):\n",
    "        img = cv2.imread(img_path)\n",
    "        img = cv2.cvtColor(img, cv2.COLOR_BGR2RGB) # OpenCV does not use RGB, it uses BGR\n",
    "        img = cv2.resize(img, (IMG_W, IMG_H))\n",
    "        flipped = cv2.flip(img,1)\n",
    "        \n",
    "        if camera == 'L': steering_angle = steering_angle + steering_offset;  # TESTEN\n",
    "        if camera == 'R': steering_angle = steering_angle - steering_offset;  # TESTEN           \n",
    "#       EVTL: np.clip, np.min\n",
    "        \n",
    "        features[img_counter,:,:,:] = img;\n",
    "        labels[img_counter] = steering_angle;\n",
    "        img_counter += 1;\n",
    "        \n",
    "        features[img_counter,:,:,:] = flipped;\n",
    "        labels[img_counter] = -steering_angle;\n",
    "        img_counter += 1;        \n",
    "\n",
    "X_train, X_test, y_train, y_test = train_test_split(features, labels, test_size=0.1)\n",
    "features = None;\n",
    "#labels = None;"
   ]
  },
  {
   "cell_type": "code",
   "execution_count": null,
   "metadata": {
    "collapsed": false
   },
   "outputs": [],
   "source": [
    "print(labels)\n",
    "print(np.sum(labels))\n",
    "print(np.sum(y_train))\n",
    "print(np.sum(y_test))\n",
    "1/0"
   ]
  },
  {
   "cell_type": "code",
   "execution_count": null,
   "metadata": {
    "collapsed": false
   },
   "outputs": [],
   "source": [
    "batch_size = 1000;\n",
    "\n",
    "batches_train = len(X_train) // batch_size\n",
    "for i in range(batches_train):\n",
    "    train = {'features': X_train[i*batch_size:(i+1)*batch_size], 'labels': y_train[i*batch_size:(i+1)*batch_size]}\n",
    "    print('- Saving train_%d.p' % (i+1))\n",
    "    with open(\"/mnt/data/train_%d.p\" % (i+1), \"wb\") as f:\n",
    "        pickle.dump(train, f)\n",
    "        \n",
    "batches_test = len(X_test) // batch_size;\n",
    "for i in range(batches_test):\n",
    "    test  = {'features': X_test[i*batch_size:(i+1)*batch_size], 'labels': y_test[i*batch_size:(i+1)*batch_size]}\n",
    "    print('- Saving test_%d.p' % (i+1))    \n",
    "    with open(\"./data/test.p\", \"wb\") as f:\n",
    "        pickle.dump(test, f)\n",
    "\n",
    "print('DONE')"
   ]
  },
  {
   "cell_type": "code",
   "execution_count": null,
   "metadata": {
    "collapsed": false
   },
   "outputs": [],
   "source": [
    "x = np.array([1,2,3,4,5,6,7,8])\n",
    "print(x[0:5])\n",
    "print(x[5:8])"
   ]
  },
  {
   "cell_type": "markdown",
   "metadata": {},
   "source": [
    "# Generate data for pre-training"
   ]
  },
  {
   "cell_type": "code",
   "execution_count": null,
   "metadata": {
    "collapsed": false
   },
   "outputs": [],
   "source": [
    "# orginal size: 320x160 RGB 8-bit\n",
    "\n",
    "features      = np.zeros(shape=[num_of_samples,IMG_H,IMG_W,3]);\n",
    "labels        = np.zeros(shape=[num_of_samples,3])\n",
    "features_more = np.zeros(shape=[num_of_samples,])\n",
    "\n",
    "img_counter = 0;\n",
    "\n",
    "idx_max = csv['steering'] > np.max(csv['steering']) - 0.45\n",
    "idx_min = csv['steering'] < np.min(csv['steering']) + 0.30\n",
    "idx = idx_max | idx_min\n",
    "idx[0:10] = True; # straight road\n",
    "idx = np.where(idx == True)[0]\n",
    "\n",
    "num_of_samples = len(idx);\n",
    "print('Number of samples %d' % num_of_samples)\n",
    "\n",
    "for _, i in np.ndenumerate(idx):\n",
    "#    left_img   = './data/' + csv['left'][i];\n",
    "#    right_img  = './data/' + csv['right'][i];\n",
    "    center_img = './data/' + csv['center'][i];   \n",
    "    steering_angle = csv['steering'][i];   \n",
    "    \n",
    "    throttle = csv['throttle'][i];   \n",
    "    brake    = csv['brake'][i];           \n",
    "    speed    = csv['speed'][i];               \n",
    "    \n",
    "    #camera = 'C'\n",
    "    img = cv2.imread(center_img)\n",
    "    img = cv2.cvtColor(img, cv2.COLOR_BGR2RGB) # OpenCV does not use RGB, it uses BGR\n",
    "    img = cv2.resize(img, (IMG_W, IMG_H))\n",
    "    flipped = cv2.flip(img,1)\n",
    "\n",
    "    #if camera == 'L': steering_angle = steering_angle + steering_offset;  # TESTEN\n",
    "    #if camera == 'R': steering_angle = steering_angle - steering_offset;  # TESTEN           \n",
    "\n",
    "    features[img_counter,:,:,:] = img;\n",
    "    labels[img_counter,0] = steering_angle;\n",
    "    labels[img_counter,1] = throttle;\n",
    "    labels[img_counter,2] = brake;    \n",
    "    features_more[img_counter] = speed;\n",
    "    img_counter += 1;\n",
    "\n",
    "    #features[img_counter,:,:,:] = flipped;\n",
    "    #labels[img_counter] = -steering_angle;\n",
    "    #img_counter += 1;        \n",
    "\n",
    "X_pretrain = features;\n",
    "y_pretrain = labels;\n",
    "z_pretrain = features_more;"
   ]
  },
  {
   "cell_type": "code",
   "execution_count": null,
   "metadata": {
    "collapsed": false
   },
   "outputs": [],
   "source": [
    "pretrain = {'features': X_pretrain, 'labels': y_pretrain, 'features_more': z_pretrain}\n",
    "with open(\"/mnt/data/train_pretrain.p\", \"wb\") as f:\n",
    "    pickle.dump(pretrain, f)"
   ]
  },
  {
   "cell_type": "code",
   "execution_count": null,
   "metadata": {
    "collapsed": false
   },
   "outputs": [],
   "source": [
    "#from klepto.archives import dir_archive\n",
    "#train_archive = dir_archive(\"./data/train.p\", {}, cached=True, serialized=True)\n",
    "#train_archive['features'] = X_train;\n",
    "#train_archive.dump()\n",
    "#train_archive['labels'] = y_train;\n",
    "#train_archive.dump()\n",
    "#train_archive.clear()\n",
    "#test_archive  = dir_archive(\"./data/test.p\", test, serialized=True)"
   ]
  },
  {
   "cell_type": "code",
   "execution_count": null,
   "metadata": {
    "collapsed": false
   },
   "outputs": [],
   "source": [
    "whos"
   ]
  },
  {
   "cell_type": "code",
   "execution_count": null,
   "metadata": {
    "collapsed": false
   },
   "outputs": [],
   "source": [
    "import psutil\n",
    "psutil.virtual_memory()"
   ]
  }
 ],
 "metadata": {
  "kernelspec": {
   "display_name": "Python 3",
   "language": "python",
   "name": "python3"
  },
  "language_info": {
   "codemirror_mode": {
    "name": "ipython",
    "version": 3
   },
   "file_extension": ".py",
   "mimetype": "text/x-python",
   "name": "python",
   "nbconvert_exporter": "python",
   "pygments_lexer": "ipython3",
   "version": "3.5.2"
  },
  "widgets": {
   "state": {},
   "version": "1.1.2"
  }
 },
 "nbformat": 4,
 "nbformat_minor": 2
}
