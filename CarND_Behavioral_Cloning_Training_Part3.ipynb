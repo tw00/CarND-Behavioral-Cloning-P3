{
 "cells": [
  {
   "cell_type": "markdown",
   "metadata": {},
   "source": [
    "# TODO\n",
    "- #TODO: Clean validation data\n",
    "- #TODO: 192x192\n",
    "- #TODO: NO VALIDALTION ON augm\n",
    "- TODO: 16 epoch nur Center + flip, dann mit R/L und ausblendfenster geradeaus"
   ]
  },
  {
   "cell_type": "code",
   "execution_count": 1,
   "metadata": {
    "collapsed": false
   },
   "outputs": [
    {
     "name": "stdout",
     "output_type": "stream",
     "text": [
      "reloaded\n"
     ]
    },
    {
     "name": "stderr",
     "output_type": "stream",
     "text": [
      "Using TensorFlow backend.\n"
     ]
    }
   ],
   "source": [
    "import numpy as np\n",
    "import matplotlib.mlab as mlab\n",
    "import matplotlib.pyplot as plt\n",
    "import self_driving_car\n",
    "from self_driving_car import data_generator\n",
    "from self_driving_car import model\n",
    "from imp import reload\n",
    "%matplotlib inline\n",
    "reload(self_driving_car)\n",
    "reload(self_driving_car.data_generator)\n",
    "reload(self_driving_car.model)\n",
    "print('reloaded')\n",
    "MODEL = \"simple4\""
   ]
  },
  {
   "cell_type": "markdown",
   "metadata": {},
   "source": [
    "# Training Episode 1 (beta sim, center only)"
   ]
  },
  {
   "cell_type": "code",
   "execution_count": 2,
   "metadata": {
    "collapsed": false
   },
   "outputs": [
    {
     "name": "stdout",
     "output_type": "stream",
     "text": [
      "split data into 6031 training sample and 1508 validation samples\n",
      "Number of samples:            37695\n",
      "Number of active sample:      4524\n",
      "Number of training samples:   4022\n",
      "Number of validation samples: 502\n"
     ]
    },
    {
     "data": {
      "image/png": "[encoded data removed]",
      "text/plain": [
       "<matplotlib.figure.Figure at 0x7f9d7b760c88>"
      ]
     },
     "metadata": {},
     "output_type": "display_data"
    },
    {
     "name": "stdout",
     "output_type": "stream",
     "text": [
      "loading images to ram...\n",
      "all images loaded to ram\n"
     ]
    }
   ],
   "source": [
    "datagen = self_driving_car.data_generator.DataGenerator()\n",
    "datagen.add_dataset(\"dataset4_beta_sim\")\n",
    "#datagen.shuffle() # NO SHUFFLING!!\n",
    "datagen.split(valid_size=0.2)\n",
    "datagen.activate_mod('mod_flip')\n",
    "datagen.deactivate_cam('L')\n",
    "datagen.deactivate_cam('R')\n",
    "datagen.plot_stats()\n",
    "datagen.load_img_to_ram()"
   ]
  },
  {
   "cell_type": "code",
   "execution_count": 3,
   "metadata": {
    "collapsed": false,
    "scrolled": true
   },
   "outputs": [
    {
     "ename": "NameError",
     "evalue": "name 'yuv_colorspace' is not defined",
     "output_type": "error",
     "traceback": [
      "\u001b[0;31m---------------------------------------------------------------------------\u001b[0m",
      "\u001b[0;31mNameError\u001b[0m                                 Traceback (most recent call last)",
      "\u001b[0;32m<ipython-input-3-60226f5f66c4>\u001b[0m in \u001b[0;36m<module>\u001b[0;34m()\u001b[0m\n\u001b[1;32m      1\u001b[0m \u001b[0mmodel\u001b[0m \u001b[0;34m=\u001b[0m \u001b[0mself_driving_car\u001b[0m\u001b[0;34m.\u001b[0m\u001b[0mmodel\u001b[0m\u001b[0;34m.\u001b[0m\u001b[0mSDRegressionModel\u001b[0m\u001b[0;34m(\u001b[0m\u001b[0mMODEL\u001b[0m\u001b[0;34m)\u001b[0m\u001b[0;34m\u001b[0m\u001b[0m\n\u001b[0;32m----> 2\u001b[0;31m \u001b[0mmodel\u001b[0m\u001b[0;34m.\u001b[0m\u001b[0mtrain_generator\u001b[0m\u001b[0;34m(\u001b[0m\u001b[0mdatagen\u001b[0m\u001b[0;34m,\u001b[0m \u001b[0;34m\"20170212_A\"\u001b[0m\u001b[0;34m,\u001b[0m \u001b[0mnb_epoch\u001b[0m \u001b[0;34m=\u001b[0m \u001b[0;36m14\u001b[0m\u001b[0;34m)\u001b[0m\u001b[0;34m\u001b[0m\u001b[0m\n\u001b[0m\u001b[1;32m      3\u001b[0m \u001b[0mmodel\u001b[0m\u001b[0;34m.\u001b[0m\u001b[0mplot_history\u001b[0m\u001b[0;34m(\u001b[0m\u001b[0;34m)\u001b[0m\u001b[0;34m;\u001b[0m\u001b[0;34m\u001b[0m\u001b[0m\n",
      "\u001b[0;32m/home/carnd/CarND-Behavioral-Cloning-P3/self_driving_car/model.py\u001b[0m in \u001b[0;36mtrain_generator\u001b[0;34m(self, datagen, session_name, nb_epoch, lr, samples_per_epoch)\u001b[0m\n\u001b[1;32m    351\u001b[0m         \u001b[0mgen_train\u001b[0m \u001b[0;34m=\u001b[0m \u001b[0mdatagen\u001b[0m\u001b[0;34m.\u001b[0m\u001b[0mget_batch_generator\u001b[0m\u001b[0;34m(\u001b[0m\u001b[0;34m)\u001b[0m\u001b[0;34m;\u001b[0m\u001b[0;34m\u001b[0m\u001b[0m\n\u001b[1;32m    352\u001b[0m \u001b[0;31m#        gen_valid = datagen.get_batch_generator('valid');\u001b[0m\u001b[0;34m\u001b[0m\u001b[0;34m\u001b[0m\u001b[0m\n\u001b[0;32m--> 353\u001b[0;31m         \u001b[0mvalid_data\u001b[0m \u001b[0;34m=\u001b[0m \u001b[0mdatagen\u001b[0m\u001b[0;34m.\u001b[0m\u001b[0mget_valid_data\u001b[0m\u001b[0;34m(\u001b[0m\u001b[0;34m)\u001b[0m\u001b[0;34m;\u001b[0m\u001b[0;34m\u001b[0m\u001b[0m\n\u001b[0m\u001b[1;32m    354\u001b[0m \u001b[0;34m\u001b[0m\u001b[0m\n\u001b[1;32m    355\u001b[0m         \u001b[0;31m# Fit the model on the batches generated datage generator\u001b[0m\u001b[0;34m\u001b[0m\u001b[0;34m\u001b[0m\u001b[0m\n",
      "\u001b[0;32m/home/carnd/CarND-Behavioral-Cloning-P3/self_driving_car/data_generator.py\u001b[0m in \u001b[0;36mget_valid_data\u001b[0;34m(self)\u001b[0m\n\u001b[1;32m    402\u001b[0m             \u001b[0mimg\u001b[0m \u001b[0;34m=\u001b[0m \u001b[0mcv2\u001b[0m\u001b[0;34m.\u001b[0m\u001b[0mcvtColor\u001b[0m\u001b[0;34m(\u001b[0m\u001b[0mimg\u001b[0m\u001b[0;34m,\u001b[0m \u001b[0mcv2\u001b[0m\u001b[0;34m.\u001b[0m\u001b[0mCOLOR_BGR2RGB\u001b[0m\u001b[0;34m)\u001b[0m \u001b[0;31m# OpenCV does not use RGB, it uses BGR\u001b[0m\u001b[0;34m\u001b[0m\u001b[0m\n\u001b[1;32m    403\u001b[0m \u001b[0;31m#            img = DataGenerator.normalize(img);\u001b[0m\u001b[0;34m\u001b[0m\u001b[0;34m\u001b[0m\u001b[0m\n\u001b[0;32m--> 404\u001b[0;31m             \u001b[0mimg\u001b[0m \u001b[0;34m=\u001b[0m \u001b[0mself\u001b[0m\u001b[0;34m.\u001b[0m\u001b[0mnormalizer\u001b[0m\u001b[0;34m(\u001b[0m\u001b[0mimg\u001b[0m\u001b[0;34m)\u001b[0m\u001b[0;34m;\u001b[0m\u001b[0;34m\u001b[0m\u001b[0m\n\u001b[0m\u001b[1;32m    405\u001b[0m             \u001b[0mitem\u001b[0m \u001b[0;34m=\u001b[0m \u001b[0;34m(\u001b[0m\u001b[0mimg\u001b[0m\u001b[0;34m,\u001b[0m \u001b[0mrow\u001b[0m\u001b[0;34m[\u001b[0m\u001b[0;34m'steering'\u001b[0m\u001b[0;34m]\u001b[0m\u001b[0;34m)\u001b[0m\u001b[0;34m\u001b[0m\u001b[0m\n\u001b[1;32m    406\u001b[0m             \u001b[0mbatch_items\u001b[0m\u001b[0;34m.\u001b[0m\u001b[0mappend\u001b[0m\u001b[0;34m(\u001b[0m\u001b[0mitem\u001b[0m\u001b[0;34m)\u001b[0m\u001b[0;34m\u001b[0m\u001b[0m\n",
      "\u001b[0;32m/home/carnd/CarND-Behavioral-Cloning-P3/self_driving_car/model.py\u001b[0m in \u001b[0;36mnormalize\u001b[0;34m(img)\u001b[0m\n\u001b[1;32m     67\u001b[0m             \u001b[0mimg\u001b[0m \u001b[0;34m=\u001b[0m \u001b[0mcv2\u001b[0m\u001b[0;34m.\u001b[0m\u001b[0mresize\u001b[0m\u001b[0;34m(\u001b[0m\u001b[0mimg\u001b[0m\u001b[0;34m,\u001b[0m \u001b[0;34m(\u001b[0m\u001b[0;36m128\u001b[0m\u001b[0;34m,\u001b[0m \u001b[0;36m128\u001b[0m\u001b[0;34m)\u001b[0m\u001b[0;34m)\u001b[0m\u001b[0;34m\u001b[0m\u001b[0m\n\u001b[1;32m     68\u001b[0m         \u001b[0mimg\u001b[0m \u001b[0;34m=\u001b[0m \u001b[0mimg\u001b[0m\u001b[0;34m.\u001b[0m\u001b[0mastype\u001b[0m\u001b[0;34m(\u001b[0m\u001b[0mfloat\u001b[0m\u001b[0;34m)\u001b[0m \u001b[0;34m/\u001b[0m \u001b[0;36m255.0\u001b[0m\u001b[0;34m\u001b[0m\u001b[0m\n\u001b[0;32m---> 69\u001b[0;31m         \u001b[0mimg\u001b[0m \u001b[0;34m=\u001b[0m \u001b[0myuv_colorspace\u001b[0m\u001b[0;34m.\u001b[0m\u001b[0mrgb2yuv\u001b[0m\u001b[0;34m(\u001b[0m\u001b[0mimg\u001b[0m\u001b[0;34m)\u001b[0m   \u001b[0;31m# convert to YUV colorspace\u001b[0m\u001b[0;34m\u001b[0m\u001b[0m\n\u001b[0m\u001b[1;32m     70\u001b[0m         \u001b[0mimg\u001b[0m\u001b[0;34m[\u001b[0m\u001b[0;34m:\u001b[0m\u001b[0;34m,\u001b[0m\u001b[0;34m:\u001b[0m\u001b[0;34m,\u001b[0m\u001b[0;36m0\u001b[0m\u001b[0;34m]\u001b[0m \u001b[0;34m=\u001b[0m \u001b[0mimg\u001b[0m\u001b[0;34m[\u001b[0m\u001b[0;34m:\u001b[0m\u001b[0;34m,\u001b[0m\u001b[0;34m:\u001b[0m\u001b[0;34m,\u001b[0m\u001b[0;36m0\u001b[0m\u001b[0;34m]\u001b[0m \u001b[0;34m-\u001b[0m \u001b[0;36m0.5\u001b[0m\u001b[0;34m;\u001b[0m      \u001b[0;31m# remove mean\u001b[0m\u001b[0;34m\u001b[0m\u001b[0m\n\u001b[1;32m     71\u001b[0m         \u001b[0;32mreturn\u001b[0m \u001b[0mimg\u001b[0m\u001b[0;34m\u001b[0m\u001b[0m\n",
      "\u001b[0;31mNameError\u001b[0m: name 'yuv_colorspace' is not defined"
     ]
    }
   ],
   "source": [
    "model = self_driving_car.model.SDRegressionModel(MODEL)\n",
    "model.train_generator(datagen, \"20170212_A\", nb_epoch = 14)\n",
    "model.plot_history();"
   ]
  },
  {
   "cell_type": "markdown",
   "metadata": {},
   "source": [
    "# Training Episode 2 (beta sim, cam L/R)"
   ]
  },
  {
   "cell_type": "code",
   "execution_count": null,
   "metadata": {
    "collapsed": false
   },
   "outputs": [],
   "source": [
    "datagen = self_driving_car.data_generator.DataGenerator()\n",
    "datagen.add_dataset(\"dataset4_beta_sim\")\n",
    "datagen.shuffle()\n",
    "datagen.split(valid_size=0.2)    \n",
    "datagen.activate_mod('mod_flip')\n",
    "datagen.filter_data_low_steering(low_steering_threshold = 0.08, low_steering_remove_prop = 0.40)\n",
    "datagen.correct_camera_steering(0.18) # 0.15 nicht gut!!\n",
    "datagen.plot_stats()\n",
    "datagen.load_img_to_ram()"
   ]
  },
  {
   "cell_type": "code",
   "execution_count": null,
   "metadata": {
    "collapsed": false
   },
   "outputs": [],
   "source": [
    "model = self_driving_car.model.SDRegressionModel(MODEL)\n",
    "model.load_weights(\"20170212_A\", 12)\n",
    "model.train_generator(datagen, \"20170212_B\", nb_epoch = 6) # lr=0.01\n",
    "model.plot_history();"
   ]
  },
  {
   "cell_type": "markdown",
   "metadata": {},
   "source": [
    "# Training Episode 3 (udacity data) --> AB HIER WIRD ES SCHLIMMER"
   ]
  },
  {
   "cell_type": "code",
   "execution_count": null,
   "metadata": {
    "collapsed": false
   },
   "outputs": [],
   "source": [
    "datagen = self_driving_car.data_generator.DataGenerator()\n",
    "datagen.add_dataset(\"dataset1_udacity\")\n",
    "datagen.shuffle()\n",
    "datagen.split(valid_size=0.2)    \n",
    "datagen.activate_mod('mod_flip')\n",
    "datagen.filter_data_low_steering(low_steering_threshold = 0.01, low_steering_remove_prop = 0.90)\n",
    "datagen.correct_camera_steering(0.18) # 0.15 nicht gut!!\n",
    "datagen.plot_stats()\n",
    "datagen.load_img_to_ram()"
   ]
  },
  {
   "cell_type": "code",
   "execution_count": null,
   "metadata": {
    "collapsed": false
   },
   "outputs": [],
   "source": [
    "model = self_driving_car.model.SDRegressionModel(MODEL)\n",
    "model.load_weights(\"20170212_B\", 5)\n",
    "model.train_generator(datagen, \"20170212_C\", nb_epoch = 6) # lr=0.01\n",
    "model.plot_history();"
   ]
  },
  {
   "cell_type": "markdown",
   "metadata": {},
   "source": [
    "# Training Episode 4: refinement"
   ]
  },
  {
   "cell_type": "code",
   "execution_count": null,
   "metadata": {
    "collapsed": false
   },
   "outputs": [],
   "source": [
    "datagen = self_driving_car.data_generator.DataGenerator()\n",
    "datagen.add_dataset(\"dataset4_beta_sim\")\n",
    "datagen.add_dataset(\"dataset6_curve2A\")\n",
    "datagen.add_dataset(\"dataset7_curve2B\")\n",
    "datagen.shuffle()\n",
    "datagen.split(valid_size=0.2) \n",
    "datagen.activate_mod('mod_flip')\n",
    "#datagen.activate_mod('mod_lighting')\n",
    "#datagen.filter_data_low_steering(low_steering_threshold = 0.08, low_steering_remove_prop = 0.50)\n",
    "datagen.correct_camera_steering(0.18)\n",
    "datagen.plot_stats()\n",
    "datagen.load_img_to_ram()"
   ]
  },
  {
   "cell_type": "code",
   "execution_count": null,
   "metadata": {
    "collapsed": false
   },
   "outputs": [],
   "source": [
    "model = self_driving_car.model.SDRegressionModel(MODEL)\n",
    "model.load_weights(\"20170212_C2\", 12)\n",
    "model.train_generator(datagen, \"20170212_D3\", nb_epoch = 8)\n",
    "model.plot_history();"
   ]
  },
  {
   "cell_type": "code",
   "execution_count": null,
   "metadata": {
    "collapsed": true
   },
   "outputs": [],
   "source": [
    "1/0"
   ]
  },
  {
   "cell_type": "markdown",
   "metadata": {},
   "source": [
    "# Training Episode 3 *alternativ* (backward data + beta)"
   ]
  },
  {
   "cell_type": "code",
   "execution_count": null,
   "metadata": {
    "collapsed": false
   },
   "outputs": [],
   "source": [
    "datagen = self_driving_car.data_generator.DataGenerator()\n",
    "datagen.add_dataset(\"dataset4_beta_sim\")\n",
    "datagen.add_dataset(\"dataset5_beta_backwards\")\n",
    "datagen.shuffle()\n",
    "datagen.split(valid_size=0.2)    \n",
    "datagen.activate_mod('mod_flip')\n",
    "#datagen.filter_data_low_steering(low_steering_threshold = 0.08, low_steering_remove_prop = 0.20)\n",
    "datagen.correct_camera_steering(0.18)\n",
    "datagen.plot_stats()\n",
    "datagen.load_img_to_ram()"
   ]
  },
  {
   "cell_type": "code",
   "execution_count": null,
   "metadata": {
    "collapsed": false
   },
   "outputs": [],
   "source": [
    "model = self_driving_car.model.SDRegressionModel(MODEL)\n",
    "model.load_weights(\"20170212_B\", 7)\n",
    "model.train_generator(datagen, \"20170212_C2\", nb_epoch = 10) # lr=0.01\n",
    "model.plot_history();"
   ]
  },
  {
   "cell_type": "markdown",
   "metadata": {},
   "source": [
    "# ALT:"
   ]
  },
  {
   "cell_type": "code",
   "execution_count": null,
   "metadata": {
    "collapsed": false
   },
   "outputs": [],
   "source": [
    "1/0"
   ]
  },
  {
   "cell_type": "code",
   "execution_count": null,
   "metadata": {
    "collapsed": false
   },
   "outputs": [],
   "source": [
    "datagen = self_driving_car.data_generator.DataGenerator()\n",
    "datagen.add_dataset(\"dataset4_beta_sim\")\n",
    "datagen.shuffle() # KEIN SHUFFLE?!?\n",
    "datagen.split(valid_size=0.2)\n",
    "#datagen.deactivate_cam('L')\n",
    "#datagen.deactivate_cam('R')\n",
    "datagen.deactivate_mod('mod_blur')\n",
    "datagen.deactivate_mod('mod_shadow')\n",
    "#datagen.deactivate_mod('mod_flip')\n",
    "datagen.deactivate_mod('mod_lighting')\n",
    "if True:\n",
    "#    datagen.filter_data_low_steering(low_steering_threshold = 0.05, low_steering_remove_prop = 0.75)\n",
    "#    datagen.filter_data_low_steering(low_steering_threshold = 0.05, low_steering_remove_prop = 0.50)   \n",
    "    datagen.correct_camera_steering(0.18) # 0.15 nicht gut!!"
   ]
  },
  {
   "cell_type": "code",
   "execution_count": null,
   "metadata": {
    "collapsed": false
   },
   "outputs": [],
   "source": [
    "model.load_weights(session_name, epoch)\n",
    "model.train_generator(datagen, \"20170211_F3\", nb_epoch = 4, lr = 0.008)\n",
    "model.plot_history();"
   ]
  },
  {
   "cell_type": "code",
   "execution_count": null,
   "metadata": {
    "collapsed": false
   },
   "outputs": [],
   "source": []
  },
  {
   "cell_type": "code",
   "execution_count": null,
   "metadata": {
    "collapsed": false
   },
   "outputs": [],
   "source": [
    "import pydot_ng\n",
    "from keras.utils.visualize_util import plot\n",
    "model.model.summary()\n",
    "plot(model.model, to_file=('doc/images/model_%s.png' % model.modelname))"
   ]
  },
  {
   "cell_type": "markdown",
   "metadata": {},
   "source": [
    "# Model: Udacity\n",
    "![model_udacity](./doc/images/model_udacity.png)"
   ]
  },
  {
   "cell_type": "code",
   "execution_count": null,
   "metadata": {
    "collapsed": false
   },
   "outputs": [],
   "source": [
    "datagen.normalizer = model.normalizer\n",
    "vdata = datagen.get_valid_data()\n",
    "print(vdata[0].shape)\n",
    "s_pred = model.model.predict(vdata[0], batch_size=128)\n",
    "print(s_pred.shape)\n",
    "\n",
    "plt.figure(figsize=(18,4))\n",
    "plt.plot(s_pred[:500:2]) # blau\n",
    "plt.plot(vdata[1][:500:2]) # orange\n",
    "plt.show()"
   ]
  },
  {
   "cell_type": "code",
   "execution_count": null,
   "metadata": {
    "collapsed": false
   },
   "outputs": [],
   "source": [
    "plt.figure(figsize=(18,18))\n",
    "for i in range(6*6):\n",
    "    idx = np.random.randint(vdata[0].shape[0]);\n",
    "    img = vdata[0][idx,:,:,:];\n",
    "    plt.subplot(6,6,i+1)\n",
    "    plt.text(10,25,'s:%.2f (%.2f)' % (s_pred[idx], vdata[1][idx]), color='w', fontsize=13, backgroundcolor='k')\n",
    "    plt.imshow(img)\n",
    "plt.show()"
   ]
  },
  {
   "cell_type": "code",
   "execution_count": null,
   "metadata": {
    "collapsed": false
   },
   "outputs": [],
   "source": [
    "gen = datagen.get_batch_generator()\n",
    "tdata = next(gen)\n",
    "s2_pred = model.model.predict(tdata[0], batch_size=192)\n",
    "plt.figure()\n",
    "plt.plot(s2_pred[::2]) # blau\n",
    "plt.plot(tdata[1][::2]) # orange\n",
    "plt.show()"
   ]
  },
  {
   "cell_type": "code",
   "execution_count": null,
   "metadata": {
    "collapsed": false
   },
   "outputs": [],
   "source": [
    "plt.figure(figsize=(18,18))\n",
    "for i in range(6*6):\n",
    "    idx = i;\n",
    "    img = tdata[0][idx,:,:,:];\n",
    "    plt.subplot(6,6,i+1)\n",
    "    plt.text(10,25,'s:%.2f (%.2f)' % (s2_pred[idx], tdata[1][idx]), color='w', fontsize=13, backgroundcolor='k')\n",
    "    plt.imshow(img)\n",
    "plt.show()"
   ]
  },
  {
   "cell_type": "code",
   "execution_count": null,
   "metadata": {
    "collapsed": false
   },
   "outputs": [],
   "source": [
    "datagen.data[np.logical_and(datagen.data.is_train, datagen.data.is_active)]"
   ]
  },
  {
   "cell_type": "code",
   "execution_count": null,
   "metadata": {
    "collapsed": true
   },
   "outputs": [],
   "source": [
    "#datagen.add_dataset(\"dataset1_udacity\")\n",
    "#datagen.add_dataset(\"dataset2_twe_one_lap\")\n",
    "#datagen.add_dataset(\"dataset3_ssz_one_lap\")\n",
    "##datagen.auto_prepare();\n",
    "#datagen.smooth_steering(window=60); # <<<<<<<< das ist gut -- ne\n",
    "# DAS WAR GUT:\n",
    "#datagen.filter_data_not_moving()\n",
    "#datagen.filter_data_low_steering(low_steering_threshold = 0.05, low_steering_remove_prop = 0.75)\n",
    "#datagen.correct_camera_steering(0.03)\n",
    "##datagen.filter_data_low_steering(low_steering_threshold = 0.04, low_steering_remove_prop = 0.4+0.1)\n",
    "##datagen.filter_data_low_steering(low_steering_threshold = 0.03, low_steering_remove_prop = 0.5+0.1)\n",
    "#datagen.filter_data_low_steering(low_steering_threshold = 0.10, low_steering_remove_prop = 0.3)\n",
    "#datagen.filter_data_low_steering(low_steering_threshold = 0.02, low_steering_remove_prop = 0.6+0.1) #raus?\n",
    "#datagen.correct_camera_steering(0.05)\n",
    "#datagen.filter_data_low_steering(low_steering_threshold = 0.10, low_steering_remove_prop = 0.30) # NEW?\n",
    "#datagen.filter_data_low_steering(low_steering_threshold = 0.02, low_steering_remove_prop = 0.85) # <\n",
    "#datagen.filter_data_low_steering(low_steering_threshold = 0.03, low_steering_remove_prop = 0.85) # NEU (x2)\n",
    "#datagen.correct_camera_steering(0.08)\n",
    "#datagen.correct_camera_steering(0.18)\n",
    "#datagen.activate_mod('mod_blur')\n",
    "#datagen.activate_mod('mod_shadow') # UMSTELLEN AUF activate\n",
    "#datagen.activate_mod('mod_lighting')"
   ]
  }
 ],
 "metadata": {
  "kernelspec": {
   "display_name": "Python 3",
   "language": "python",
   "name": "python3"
  },
  "language_info": {
   "codemirror_mode": {
    "name": "ipython",
    "version": 3
   },
   "file_extension": ".py",
   "mimetype": "text/x-python",
   "name": "python",
   "nbconvert_exporter": "python",
   "pygments_lexer": "ipython3",
   "version": "3.5.2"
  },
  "widgets": {
   "state": {},
   "version": "1.1.2"
  }
 },
 "nbformat": 4,
 "nbformat_minor": 2
}
