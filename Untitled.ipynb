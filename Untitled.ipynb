{
 "cells": [
  {
   "cell_type": "code",
   "execution_count": null,
   "metadata": {
    "collapsed": false
   },
   "outputs": [
    {
     "name": "stderr",
     "output_type": "stream",
     "text": [
      "Using TensorFlow backend.\n"
     ]
    },
    {
     "name": "stdout",
     "output_type": "stream",
     "text": [
      "Model loaded.\n",
      "____________________________________________________________________________________________________\n",
      "Layer (type)                     Output Shape          Param #     Connected to                     \n",
      "====================================================================================================\n",
      "cropping2d_1 (Cropping2D)        (None, 68, 128, 3)    0           cropping2d_input_1[0][0]         \n",
      "____________________________________________________________________________________________________\n",
      "convolution2d_1 (Convolution2D)  (None, 34, 64, 16)    784         cropping2d_1[0][0]               \n",
      "____________________________________________________________________________________________________\n",
      "leakyrelu_1 (LeakyReLU)          (None, 34, 64, 16)    0           convolution2d_1[0][0]            \n",
      "____________________________________________________________________________________________________\n",
      "convolution2d_2 (Convolution2D)  (None, 17, 32, 16)    4112        leakyrelu_1[0][0]                \n",
      "____________________________________________________________________________________________________\n",
      "leakyrelu_2 (LeakyReLU)          (None, 17, 32, 16)    0           convolution2d_2[0][0]            \n",
      "____________________________________________________________________________________________________\n",
      "maxpooling2d_1 (MaxPooling2D)    (None, 8, 16, 16)     0           leakyrelu_2[0][0]                \n",
      "____________________________________________________________________________________________________\n",
      "convolution2d_3 (Convolution2D)  (None, 4, 8, 16)      16400       maxpooling2d_1[0][0]             \n",
      "____________________________________________________________________________________________________\n",
      "leakyrelu_3 (LeakyReLU)          (None, 4, 8, 16)      0           convolution2d_3[0][0]            \n",
      "____________________________________________________________________________________________________\n",
      "flatten_1 (Flatten)              (None, 512)           0           leakyrelu_3[0][0]                \n",
      "____________________________________________________________________________________________________\n",
      "leakyrelu_4 (LeakyReLU)          (None, 512)           0           flatten_1[0][0]                  \n",
      "____________________________________________________________________________________________________\n",
      "dropout_1 (Dropout)              (None, 512)           0           leakyrelu_4[0][0]                \n",
      "____________________________________________________________________________________________________\n",
      "dense_1 (Dense)                  (None, 128)           65664       dropout_1[0][0]                  \n",
      "____________________________________________________________________________________________________\n",
      "dropout_2 (Dropout)              (None, 128)           0           dense_1[0][0]                    \n",
      "____________________________________________________________________________________________________\n",
      "leakyrelu_5 (LeakyReLU)          (None, 128)           0           dropout_2[0][0]                  \n",
      "____________________________________________________________________________________________________\n",
      "dense_2 (Dense)                  (None, 32)            4128        leakyrelu_5[0][0]                \n",
      "____________________________________________________________________________________________________\n",
      "dense_3 (Dense)                  (None, 1)             33          dense_2[0][0]                    \n",
      "====================================================================================================\n",
      "Total params: 91,121\n",
      "Trainable params: 91,121\n",
      "Non-trainable params: 0\n",
      "____________________________________________________________________________________________________\n",
      "None\n",
      "Working on filters: [20]\n",
      "Working on filters: [20]\n",
      "Working on filters: [20]\n"
     ]
    }
   ],
   "source": [
    "import cv2\n",
    "import numpy as np\n",
    "import tensorflow as tf\n",
    "from keras.models import load_model\n",
    "\n",
    "import vis\n",
    "from vis.utils import utils\n",
    "from vis.utils.utils import stitch_images\n",
    "from vis.optimizer import Optimizer\n",
    "from vis.losses import ActivationMaximization\n",
    "from vis.regularizers import TotalVariation, LPNorm\n",
    "from vis.visualization import visualize_activation, get_num_filters\n",
    "\n",
    "# Build the VGG16 network with ImageNet weights\n",
    "model = load_model('/mnt/models/simple3/weights/20170212_A/weights.08-0.0049.hdf5')\n",
    "print('Model loaded.')\n",
    "print(model.summary())\n",
    "\n",
    "# The name of the layer we want to visualize\n",
    "# (see model definition in vggnet.py)\n",
    "layer_name = 'dense_1'\n",
    "layer_idx = [idx for idx, layer in enumerate(model.layers) if layer.name == layer_name][0]\n",
    "\n",
    "# Generate three different images of the same output index.\n",
    "vis_images = [visualize_activation(model, layer_idx, filter_indices=idx,max_iter=500) \\\n",
    "              for idx in [20, 20, 20]]\n",
    "cv2.imshow(layer_name, stitch_images(vis_images))\n",
    "cv2.waitKey(0)"
   ]
  },
  {
   "cell_type": "code",
   "execution_count": null,
   "metadata": {
    "collapsed": false
   },
   "outputs": [
    {
     "name": "stderr",
     "output_type": "stream",
     "text": [
      "Using TensorFlow backend.\n"
     ]
    },
    {
     "name": "stdout",
     "output_type": "stream",
     "text": [
      "Model loaded.\n",
      "Working on filters: [0]\n",
      "Working on filters: [1]\n",
      "Working on filters: [2]\n",
      "Working on filters: [3]\n",
      "Working on filters: [4]\n",
      "Working on filters: [5]\n",
      "Working on filters: [6]\n",
      "Working on filters: [7]\n",
      "Working on filters: [8]\n",
      "Working on filters: [9]\n",
      "Working on filters: [10]\n",
      "Working on filters: [11]\n",
      "Working on filters: [12]\n",
      "Working on filters: [13]\n",
      "Working on filters: [14]\n",
      "Working on filters: [15]\n"
     ]
    }
   ],
   "source": [
    "import cv2\n",
    "import numpy as np\n",
    "from keras.models import load_model\n",
    "\n",
    "from vis.utils.utils import stitch_images\n",
    "#print(vis.__version__)\n",
    "#1/0\n",
    "from vis.visualization import visualize_activation, get_num_filters\n",
    "\n",
    "# Build the VGG16 network with ImageNet weights\n",
    "model = load_model('/mnt/models/simple3/weights/20170212_A/weights.08-0.0049.hdf5')\n",
    "print('Model loaded.')\n",
    "\n",
    "# The name of the layer we want to visualize\n",
    "# (see model definition in vggnet.py)\n",
    "layer_name = 'convolution2d_3'\n",
    "layer_idx = [idx for idx, layer in enumerate(model.layers) if layer.name == layer_name][0]\n",
    "\n",
    "# Visualize all filters in this layer.\n",
    "filters = np.arange(get_num_filters(model.layers[layer_idx]))\n",
    "\n",
    "# Generate input image for each filter. Here `text` field is used to overlay `filter_value` on top of the image.\n",
    "vis_images = [visualize_activation(model, layer_idx, filter_indices=idx)\n",
    "              for idx in filters]\n",
    "\n",
    "# Generate stitched image pallette with 10 cols.\n",
    "cv2.imshow(layer_name, stitch_images(vis_images, cols=8))\n",
    "cv2.waitKey(0)"
   ]
  },
  {
   "cell_type": "code",
   "execution_count": null,
   "metadata": {
    "collapsed": true
   },
   "outputs": [],
   "source": []
  }
 ],
 "metadata": {
  "kernelspec": {
   "display_name": "Python 3",
   "language": "python",
   "name": "python3"
  },
  "language_info": {
   "codemirror_mode": {
    "name": "ipython",
    "version": 3
   },
   "file_extension": ".py",
   "mimetype": "text/x-python",
   "name": "python",
   "nbconvert_exporter": "python",
   "pygments_lexer": "ipython3",
   "version": "3.5.2"
  },
  "widgets": {
   "state": {},
   "version": "1.1.2"
  }
 },
 "nbformat": 4,
 "nbformat_minor": 2
}
